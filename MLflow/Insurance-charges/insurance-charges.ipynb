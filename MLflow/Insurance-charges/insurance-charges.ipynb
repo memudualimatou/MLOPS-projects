{
 "cells": [
  {
   "cell_type": "markdown",
   "metadata": {},
   "source": [
    "## MLFLOW MODEL DEPLOYMENT \n",
    "\n",
    "**The Goal**:\n",
    "    Deploy a xgboost MLflow model into Docker"
   ]
  },
  {
   "cell_type": "markdown",
   "metadata": {},
   "source": [
    "## Data preprocessing"
   ]
  },
  {
   "cell_type": "code",
   "execution_count": 1,
   "metadata": {},
   "outputs": [],
   "source": [
    "# Importing dataset\n",
    "\n",
    "import warnings\n",
    "warnings.filterwarnings('ignore')\n",
    "\n",
    "# importing the libraries\n",
    "import numpy as np\n",
    "import pandas as pd\n",
    "from sklearn.metrics import r2_score\n",
    "from sklearn.model_selection import train_test_split\n",
    "from sklearn.preprocessing import LabelEncoder\n",
    "from xgboost import XGBRegressor\n",
    "import mlflow.xgboost\n",
    "import requests\n",
    "import mlflow"
   ]
  },
  {
   "cell_type": "code",
   "execution_count": 2,
   "metadata": {},
   "outputs": [
    {
     "data": {
      "text/html": [
       "<div>\n",
       "<style scoped>\n",
       "    .dataframe tbody tr th:only-of-type {\n",
       "        vertical-align: middle;\n",
       "    }\n",
       "\n",
       "    .dataframe tbody tr th {\n",
       "        vertical-align: top;\n",
       "    }\n",
       "\n",
       "    .dataframe thead th {\n",
       "        text-align: right;\n",
       "    }\n",
       "</style>\n",
       "<table border=\"1\" class=\"dataframe\">\n",
       "  <thead>\n",
       "    <tr style=\"text-align: right;\">\n",
       "      <th></th>\n",
       "      <th>age</th>\n",
       "      <th>sex</th>\n",
       "      <th>bmi</th>\n",
       "      <th>children</th>\n",
       "      <th>smoker</th>\n",
       "      <th>region</th>\n",
       "      <th>charges</th>\n",
       "    </tr>\n",
       "  </thead>\n",
       "  <tbody>\n",
       "    <tr>\n",
       "      <th>0</th>\n",
       "      <td>19</td>\n",
       "      <td>female</td>\n",
       "      <td>27.900</td>\n",
       "      <td>0</td>\n",
       "      <td>yes</td>\n",
       "      <td>southwest</td>\n",
       "      <td>16884.92400</td>\n",
       "    </tr>\n",
       "    <tr>\n",
       "      <th>1</th>\n",
       "      <td>18</td>\n",
       "      <td>male</td>\n",
       "      <td>33.770</td>\n",
       "      <td>1</td>\n",
       "      <td>no</td>\n",
       "      <td>southeast</td>\n",
       "      <td>1725.55230</td>\n",
       "    </tr>\n",
       "    <tr>\n",
       "      <th>2</th>\n",
       "      <td>28</td>\n",
       "      <td>male</td>\n",
       "      <td>33.000</td>\n",
       "      <td>3</td>\n",
       "      <td>no</td>\n",
       "      <td>southeast</td>\n",
       "      <td>4449.46200</td>\n",
       "    </tr>\n",
       "    <tr>\n",
       "      <th>3</th>\n",
       "      <td>33</td>\n",
       "      <td>male</td>\n",
       "      <td>22.705</td>\n",
       "      <td>0</td>\n",
       "      <td>no</td>\n",
       "      <td>northwest</td>\n",
       "      <td>21984.47061</td>\n",
       "    </tr>\n",
       "    <tr>\n",
       "      <th>4</th>\n",
       "      <td>32</td>\n",
       "      <td>male</td>\n",
       "      <td>28.880</td>\n",
       "      <td>0</td>\n",
       "      <td>no</td>\n",
       "      <td>northwest</td>\n",
       "      <td>3866.85520</td>\n",
       "    </tr>\n",
       "  </tbody>\n",
       "</table>\n",
       "</div>"
      ],
      "text/plain": [
       "   age     sex     bmi  children smoker     region      charges\n",
       "0   19  female  27.900         0    yes  southwest  16884.92400\n",
       "1   18    male  33.770         1     no  southeast   1725.55230\n",
       "2   28    male  33.000         3     no  southeast   4449.46200\n",
       "3   33    male  22.705         0     no  northwest  21984.47061\n",
       "4   32    male  28.880         0     no  northwest   3866.85520"
      ]
     },
     "execution_count": 2,
     "metadata": {},
     "output_type": "execute_result"
    }
   ],
   "source": [
    "#importing data\n",
    "data = pd.read_csv('C:\\MINE\\DATA SCIENCE\\my datasets\\insurance.csv')\n",
    "data.head()"
   ]
  },
  {
   "cell_type": "code",
   "execution_count": 3,
   "metadata": {},
   "outputs": [
    {
     "data": {
      "text/plain": [
       "(1338, 7)"
      ]
     },
     "execution_count": 3,
     "metadata": {},
     "output_type": "execute_result"
    }
   ],
   "source": [
    "data.shape"
   ]
  },
  {
   "cell_type": "code",
   "execution_count": 4,
   "metadata": {},
   "outputs": [
    {
     "name": "stdout",
     "output_type": "stream",
     "text": [
      "<class 'pandas.core.frame.DataFrame'>\n",
      "RangeIndex: 1338 entries, 0 to 1337\n",
      "Data columns (total 7 columns):\n",
      " #   Column    Non-Null Count  Dtype  \n",
      "---  ------    --------------  -----  \n",
      " 0   age       1338 non-null   int64  \n",
      " 1   sex       1338 non-null   object \n",
      " 2   bmi       1338 non-null   float64\n",
      " 3   children  1338 non-null   int64  \n",
      " 4   smoker    1338 non-null   object \n",
      " 5   region    1338 non-null   object \n",
      " 6   charges   1338 non-null   float64\n",
      "dtypes: float64(2), int64(2), object(3)\n",
      "memory usage: 73.3+ KB\n"
     ]
    }
   ],
   "source": [
    "data.info()"
   ]
  },
  {
   "cell_type": "code",
   "execution_count": 5,
   "metadata": {},
   "outputs": [],
   "source": [
    "# list the categorical variables\n",
    "car_var=data.select_dtypes(include=['object']).columns"
   ]
  },
  {
   "cell_type": "code",
   "execution_count": 6,
   "metadata": {},
   "outputs": [],
   "source": [
    "# handle categorical data sex using label encoder\n",
    "\n",
    "labelencoder_X = LabelEncoder()\n",
    "data['sex'] = labelencoder_X.fit_transform(data['sex'])\n",
    "data['region'] = labelencoder_X.fit_transform(data['region'])\n",
    "data['smoker'] = labelencoder_X.fit_transform(data['smoker'])"
   ]
  },
  {
   "cell_type": "code",
   "execution_count": 8,
   "metadata": {
    "scrolled": true
   },
   "outputs": [
    {
     "data": {
      "text/plain": [
       "smoker      0.619765\n",
       "age         0.089406\n",
       "bmi         0.039339\n",
       "children    0.004624\n",
       "sex         0.003282\n",
       "region      0.000039\n",
       "Name: charges, dtype: float64"
      ]
     },
     "execution_count": 8,
     "metadata": {},
     "output_type": "execute_result"
    }
   ],
   "source": [
    "## Getting the correlation of all the features with target variable(charges). \n",
    "(data.corr()**2)[\"charges\"].sort_values(ascending = False)[1:]"
   ]
  },
  {
   "cell_type": "markdown",
   "metadata": {},
   "source": [
    "Age,smoker and Children are the top three variables significant to our target variable. \n",
    "my observstion matches the correlation(This don't work all the time BE CAREFUL!)"
   ]
  },
  {
   "cell_type": "markdown",
   "metadata": {},
   "source": [
    "## ML FLOW"
   ]
  },
  {
   "cell_type": "code",
   "execution_count": 9,
   "metadata": {},
   "outputs": [],
   "source": [
    "# Defining an MLflow experiment\n",
    "try:\n",
    "    mlflow.create_experiment(\"insurance charges 1\")\n",
    "    experiment = mlflow.get_experiment_by_name(\"insurance charges 1\")\n",
    "except:\n",
    "    experiment = mlflow.set_experiment(\"insurance charges 1\")"
   ]
  },
  {
   "cell_type": "code",
   "execution_count": 10,
   "metadata": {},
   "outputs": [
    {
     "name": "stdout",
     "output_type": "stream",
     "text": [
      "<Experiment: artifact_location='file:///C:/Users/Alimat%20sadia/Mlops-projects/P03/mlruns/1', experiment_id='1', lifecycle_stage='active', name='insurance charges 1', tags={}>\n"
     ]
    }
   ],
   "source": [
    " print(experiment)"
   ]
  },
  {
   "cell_type": "code",
   "execution_count": 11,
   "metadata": {},
   "outputs": [],
   "source": [
    "exp_id = experiment.experiment_id"
   ]
  },
  {
   "cell_type": "code",
   "execution_count": 12,
   "metadata": {},
   "outputs": [],
   "source": [
    "# splitting data into target and independant variables\n",
    "x = data.drop('charges',axis=1)\n",
    "y = data['charges']"
   ]
  },
  {
   "cell_type": "code",
   "execution_count": 13,
   "metadata": {},
   "outputs": [],
   "source": [
    "# splitting the dataset into training and test set\n",
    "\n",
    "X_train, X_test, y_train, y_test = train_test_split(x, y, test_size=0.2, random_state=0)"
   ]
  },
  {
   "cell_type": "code",
   "execution_count": 14,
   "metadata": {},
   "outputs": [],
   "source": [
    "# define the parameter values\n",
    "paramters = {\"n_estimators\": [50, 100, 200, 500],\n",
    "             \"max_depth\": [5, 7, 10]}"
   ]
  },
  {
   "cell_type": "markdown",
   "metadata": {},
   "source": [
    "##  XGBoost Model"
   ]
  },
  {
   "cell_type": "code",
   "execution_count": 15,
   "metadata": {},
   "outputs": [],
   "source": [
    "#Logging experiemnet manually\n",
    "\n",
    "with mlflow.start_run(experiment_id=exp_id, run_name=\" Parent XGBoostRegressor\", nested=True):\n",
    "    for estimator_param in paramters['n_estimators']:\n",
    "        for mdepth_param in paramters['max_depth']:\n",
    "            with mlflow.start_run(experiment_id=exp_id, run_name=\" Child XGBoostRegressor\", nested=True):\n",
    "                xgb_model = XGBRegressor(max_depth=mdepth_param, n_estimators=estimator_param)\n",
    "                xgb_model.fit(X_train, y_train)\n",
    "\n",
    "                y_pred = xgb_model.predict(X_test)\n",
    "\n",
    "                # log the parameters\n",
    "                mlflow.log_param(\"n_estimator\", estimator_param)\n",
    "                mlflow.log_param(\"max depth\", mdepth_param)\n",
    "\n",
    "                # log the R2 score\n",
    "                mlflow.log_metric(\"R2\", r2_score(y_test, y_pred))\n",
    "\n",
    "                # Logging training data\n",
    "                mlflow.log_artifact(local_path='C:\\MINE\\DATA SCIENCE\\my datasets\\insurance.csv')\n",
    "                # Logging training code\n",
    "                mlflow.log_artifact(local_path=r'C:\\Users\\Alimat sadia\\Mlops-projects\\P03\\insurance-charges.py')\n",
    "\n",
    "                # saving model\n",
    "                mlflow.xgboost.log_model(xgb_model, 'XGBModel')"
   ]
  },
  {
   "cell_type": "markdown",
   "metadata": {},
   "source": [
    "The code above will create a new folder name named **mlruns** which contains all artifacts,parameters,metrics of each model,then you can visualize the performance of each model by running *mlflow ui* on your terminal.<br>\n",
    "Now Copy the **XGBmodel** folder of your prefered model performance into the parent path. "
   ]
  },
  {
   "cell_type": "markdown",
   "metadata": {},
   "source": [
    "## Serving With REST APIs & Docker"
   ]
  },
  {
   "cell_type": "code",
   "execution_count": 16,
   "metadata": {},
   "outputs": [],
   "source": [
    "# load your best model\n",
    "model = mlflow.xgboost.load_model(\"XGBModel\")"
   ]
  },
  {
   "cell_type": "markdown",
   "metadata": {},
   "source": [
    " Run in your conda command line \"**mlflow models serve -m XGBModel/**\"\n",
    " After a successfull running, the webserver will be available at http://127.0.0.1:5000"
   ]
  },
  {
   "cell_type": "code",
   "execution_count": 17,
   "metadata": {},
   "outputs": [
    {
     "data": {
      "text/plain": [
       "array([8752.548, 8196.461], dtype=float32)"
      ]
     },
     "execution_count": 17,
     "metadata": {},
     "output_type": "execute_result"
    }
   ],
   "source": [
    "## Testing our model on the top 2 data row\n",
    "test_df = X_test.head(2)\n",
    "xgb_model.predict(test_df)"
   ]
  },
  {
   "cell_type": "code",
   "execution_count": 18,
   "metadata": {},
   "outputs": [
    {
     "data": {
      "text/plain": [
       "'{\"columns\":[\"age\",\"sex\",\"bmi\",\"children\",\"smoker\",\"region\"],\"index\":[578,610],\"data\":[[52,1,30.2,1,0,3],[47,0,29.37,1,0,2]]}'"
      ]
     },
     "execution_count": 18,
     "metadata": {},
     "output_type": "execute_result"
    }
   ],
   "source": [
    "test_json = test_df.to_json(orient='split')\n",
    "test_json"
   ]
  },
  {
   "cell_type": "code",
   "execution_count": 19,
   "metadata": {},
   "outputs": [],
   "source": [
    "# testing model on post request\n",
    "\n",
    "result = requests.post(url=\"http://127.0.0.1:5000/invocations\",\n",
    "                       data=test_json,\n",
    "                       headers={'Content-Type':'application/json'})"
   ]
  },
  {
   "cell_type": "code",
   "execution_count": 21,
   "metadata": {},
   "outputs": [
    {
     "data": {
      "text/plain": [
       "[13028.3466796875, 10437.822265625]"
      ]
     },
     "execution_count": 21,
     "metadata": {},
     "output_type": "execute_result"
    }
   ],
   "source": [
    "result.json()"
   ]
  },
  {
   "cell_type": "markdown",
   "metadata": {},
   "source": [
    "Great !"
   ]
  },
  {
   "cell_type": "markdown",
   "metadata": {},
   "source": [
    "## Deploy the api as a docker container\n",
    "\n",
    "To deploy mlflow model into docker  run this command :<br>\n",
    "     **mlflow models build-docker -m \"runs:/ab61c11a19d54f93894ddd5ed0a8e431/XGBModel/\" -n \"insurance-app\"**<br>\n",
    "with ab61c11a19d54f93894ddd5ed0a8e431 corresponding to your preferred model uuid. <br>\n",
    "This will create an image with the name \"insurance app\" on your docker dashboard.<br>\n",
    "You can containerize the REST API using the command:  **docker run -ip 8000:8080 <image_id>** <br>\n",
    "Now the model is available at http://127.0.0.1:8000"
   ]
  },
  {
   "cell_type": "code",
   "execution_count": 22,
   "metadata": {},
   "outputs": [
    {
     "data": {
      "text/plain": [
       "[13028.3466796875, 10437.822265625]"
      ]
     },
     "execution_count": 22,
     "metadata": {},
     "output_type": "execute_result"
    }
   ],
   "source": [
    "# testing our deployed model\n",
    "\n",
    "result = requests.post(url=\"http://127.0.0.1:8000/invocations\",\n",
    "                       data=test_json,\n",
    "                       headers={'Content-Type':'application/json'})\n",
    "\n",
    "result.json()"
   ]
  },
  {
   "cell_type": "markdown",
   "metadata": {},
   "source": [
    "Congratulations !! now you know how to deplaoy an MLflow model into Docker."
   ]
  }
 ],
 "metadata": {
  "kernelspec": {
   "display_name": "Python 3 (ipykernel)",
   "language": "python",
   "name": "python3"
  },
  "language_info": {
   "codemirror_mode": {
    "name": "ipython",
    "version": 3
   },
   "file_extension": ".py",
   "mimetype": "text/x-python",
   "name": "python",
   "nbconvert_exporter": "python",
   "pygments_lexer": "ipython3",
   "version": "3.9.7"
  }
 },
 "nbformat": 4,
 "nbformat_minor": 2
}
